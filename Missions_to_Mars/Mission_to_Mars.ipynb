{
 "cells": [
  {
   "cell_type": "code",
   "execution_count": 1,
   "metadata": {},
   "outputs": [],
   "source": [
    "from splinter import Browser\n",
    "from bs4 import BeautifulSoup\n",
    "from webdriver_manager.chrome import ChromeDriverManager\n",
    "import requests\n",
    "import pandas as pd"
   ]
  },
  {
   "cell_type": "code",
   "execution_count": 2,
   "metadata": {},
   "outputs": [
    {
     "name": "stderr",
     "output_type": "stream",
     "text": [
      "\n",
      "\n",
      "====== WebDriver manager ======\n",
      "Current google-chrome version is 93.0.4577\n",
      "Get LATEST driver version for 93.0.4577\n",
      "Driver [C:\\Users\\andre\\.wdm\\drivers\\chromedriver\\win32\\93.0.4577.63\\chromedriver.exe] found in cache\n"
     ]
    }
   ],
   "source": [
    "# Setup splinter\n",
    "executable_path = {'executable_path': ChromeDriverManager().install()}\n",
    "browser = Browser('chrome', **executable_path, headless=False)"
   ]
  },
  {
   "cell_type": "code",
   "execution_count": 6,
   "metadata": {},
   "outputs": [],
   "source": [
    "url = 'https://mars.nasa.gov/news/'\n",
    "browser.visit(url)"
   ]
  },
  {
   "cell_type": "code",
   "execution_count": 37,
   "metadata": {},
   "outputs": [
    {
     "name": "stdout",
     "output_type": "stream",
     "text": [
      "Title: Mars Now\n",
      "Teaser: The rocks it has analyzed for sample collection are helping the team better understand a past marked by volcanic activity and water.\n",
      "\n",
      "Title: NASA's Perseverance Rover Collects Puzzle Pieces of Mars' History\n",
      "Teaser: Dr. Shannon Curry, planetary scientist and the deputy assistant director of planetary science at the Space Sciences Laboratory (SSL) at the University of California, Berkeley, has assumed leadership of NASA’s first mission devoted to studying the Martian atmosphere.\n",
      "\n",
      "Title: NASA Mars Mission Begins a New Chapter of Science With a New Leader\n",
      "Teaser: The three award recipients – Diana Trujillo, Christina Hernandez, and Clara O’Farrell – are engineers from the NASA rover team. \n",
      "\n",
      "Title: Mars Perseverance Team Members to Be Recognized at Hispanic Heritage Awards\n",
      "Teaser: Panelists will discuss the Perseverance rover’s successful collection of the sample and latest science analysis.\n",
      "\n",
      "Title: NASA to Host Briefing on Successful Sample Collection of Martian Rock\n",
      "Teaser: The rock core is now enclosed in an airtight titanium sample tube, and will be available for retrieval in the future.\n",
      "\n",
      "Title: NASA's Perseverance Rover Collects First Mars Rock Sample\n",
      "Teaser: Perseverance will obtain additional imagery of the sample tube before potentially completing the process of collecting its first scientifically-selected Mars sample.\n",
      "\n",
      "\n",
      "Title: NASA's Perseverance Rover Successfully Cores Its First Rock\n",
      "Teaser: The rover will abrade a rock this week, allowing scientists and engineers to decide whether that target would withstand its powerful drill.\n",
      "\n",
      "Title: NASA's Perseverance Plans Next Sample Attempt\n",
      "Teaser: Perseverance scientist impressed with aerial images of location considered for rover exploration.  \n",
      "\n",
      "Title: My Favorite Martian Image: Helicopter Sees Potential Rover Road Ahead\n",
      "Teaser: A new video rings in the rover’s ninth year on Mars, letting viewers tour Curiosity’s location on a Martian mountain.\n",
      "\n",
      "Title: NASA's Curiosity Mars Rover Explores a Changing Landscape\n",
      "Teaser: By combining observations from three international spacecraft at Mars, scientists were able to show that regional dust storms play a huge role in drying out the Red Planet.\n",
      "\n",
      "Title: Global Trio of Orbiters Shows Small Dust Storms Help Dry Out Mars\n",
      "Teaser: Can you see NASA’s newest rover in this picture from Jezero Crater?\n",
      "\n",
      "Title: NASA's Ingenuity Mars Helicopter Spots Perseverance From Above\n",
      "Teaser: The prestigious honor recognizes the pioneering rotorcraft for its history-making flights on the Red Planet.\n",
      "\n",
      "Title: Aviation Week Awards NASA's Ingenuity Mars Helicopter With Laureate \n",
      "Teaser: The rover continues to explore Jezero Crater while the team assesses today’s activities.\n",
      "\n",
      "Title: NASA's Perseverance Team Assessing First Mars Sampling Attempt\n",
      "Teaser: This week, the Perseverance team here on Earth hopes to make scientific treasure hunting history on Mars.\n",
      "\n",
      "Title: Building a Mars Treasure Chest, One Test Tube at a Time\n",
      "Teaser: A member of the Perseverance rover’s science team explains why the aerial image offers science advantages over ground-level images.\n",
      "\n"
     ]
    }
   ],
   "source": [
    "n_max = 15\n",
    "html = browser.html\n",
    "soup = BeautifulSoup(html, 'html.parser')\n",
    "\n",
    "news = soup.find_all('div', 'content_title')\n",
    "teasers = soup.find_all('div', 'article_teaser_body')\n",
    "\n",
    "for teaser, new in zip(teasers[:n_max], news[:n_max]):\n",
    "    print(\"Title: {}\".format(new.text))\n",
    "    print(\"Teaser: {}\\n\".format(teaser.text))\n",
    "    "
   ]
  },
  {
   "cell_type": "code",
   "execution_count": null,
   "metadata": {},
   "outputs": [],
   "source": []
  },
  {
   "cell_type": "code",
   "execution_count": 4,
   "metadata": {},
   "outputs": [],
   "source": [
    "url = 'https://www.jpl.nasa.gov/spaceimages/?search=&category=Mars'\n",
    "browser.visit(url)"
   ]
  },
  {
   "cell_type": "code",
   "execution_count": 38,
   "metadata": {},
   "outputs": [],
   "source": [
    "url='https://space-facts.com/mars/'\n",
    "browser.visit(url)"
   ]
  },
  {
   "cell_type": "code",
   "execution_count": 41,
   "metadata": {},
   "outputs": [
    {
     "data": {
      "text/plain": [
       "'<table border=\"1\" class=\"dataframe\">\\n  <thead>\\n    <tr style=\"text-align: right;\">\\n      <th></th>\\n      <th>0</th>\\n      <th>1</th>\\n    </tr>\\n  </thead>\\n  <tbody>\\n    <tr>\\n      <th>0</th>\\n      <td>Equatorial Diameter:</td>\\n      <td>6,792 km</td>\\n    </tr>\\n    <tr>\\n      <th>1</th>\\n      <td>Polar Diameter:</td>\\n      <td>6,752 km</td>\\n    </tr>\\n    <tr>\\n      <th>2</th>\\n      <td>Mass:</td>\\n      <td>6.39 × 10^23 kg (0.11 Earths)</td>\\n    </tr>\\n    <tr>\\n      <th>3</th>\\n      <td>Moons:</td>\\n      <td>2 (Phobos &amp; Deimos)</td>\\n    </tr>\\n    <tr>\\n      <th>4</th>\\n      <td>Orbit Distance:</td>\\n      <td>227,943,824 km (1.38 AU)</td>\\n    </tr>\\n    <tr>\\n      <th>5</th>\\n      <td>Orbit Period:</td>\\n      <td>687 days (1.9 years)</td>\\n    </tr>\\n    <tr>\\n      <th>6</th>\\n      <td>Surface Temperature:</td>\\n      <td>-87 to -5 °C</td>\\n    </tr>\\n    <tr>\\n      <th>7</th>\\n      <td>First Record:</td>\\n      <td>2nd millennium BC</td>\\n    </tr>\\n    <tr>\\n      <th>8</th>\\n      <td>Recorded By:</td>\\n      <td>Egyptian astronomers</td>\\n    </tr>\\n  </tbody>\\n</table>'"
      ]
     },
     "execution_count": 41,
     "metadata": {},
     "output_type": "execute_result"
    }
   ],
   "source": [
    "pd.read_html(url)[0].to_html()\n"
   ]
  },
  {
   "cell_type": "code",
   "execution_count": 53,
   "metadata": {},
   "outputs": [
    {
     "data": {
      "text/plain": [
       "[<h3>Cerberus Hemisphere Enhanced</h3>,\n",
       " <h3>Schiaparelli Hemisphere Enhanced</h3>,\n",
       " <h3>Syrtis Major Hemisphere Enhanced</h3>,\n",
       " <h3>Valles Marineris Hemisphere Enhanced</h3>]"
      ]
     },
     "execution_count": 53,
     "metadata": {},
     "output_type": "execute_result"
    }
   ],
   "source": [
    "articles = soup.find_all('h3')\n",
    "# for article in articles:\n",
    "#         # Use Beautiful Soup's find() method to navigate and retrieve attributes\n",
    "#         h3 = article.find('h3')\n",
    "#         print(h3)\n",
    "articles"
   ]
  },
  {
   "cell_type": "code",
   "execution_count": 82,
   "metadata": {},
   "outputs": [],
   "source": [
    "hemisphere_image_urls = []\n",
    "\n",
    "# First, get a list of all of the hemispheres\n",
    "links = browser.find_by_css(\"a.product-item h3\")\n",
    "\n",
    "for x in range(len(links)):\n",
    "    mars={}\n",
    "   \n",
    "    browser.find_by_css(\"a.product-item h3\")[x].click()\n",
    "    \n",
    "    \n",
    "    \n",
    "    \n",
    "    browser.back()"
   ]
  },
  {
   "cell_type": "code",
   "execution_count": 84,
   "metadata": {},
   "outputs": [
    {
     "data": {
      "text/plain": [
       "[{'title': 'Cerberus Hemisphere Enhanced',\n",
       "  'img': 'https://astrogeology.usgs.gov/cache/images/f5e372a36edfa389625da6d0cc25d905_cerberus_enhanced.tif_full.jpg'},\n",
       " {'title': 'Schiaparelli Hemisphere Enhanced',\n",
       "  'img': 'https://astrogeology.usgs.gov/cache/images/3778f7b43bbbc89d6e3cfabb3613ba93_schiaparelli_enhanced.tif_full.jpg'},\n",
       " {'title': 'Syrtis Major Hemisphere Enhanced',\n",
       "  'img': 'https://astrogeology.usgs.gov/cache/images/555e6403a6ddd7ba16ddb0e471cadcf7_syrtis_major_enhanced.tif_full.jpg'},\n",
       " {'title': 'Valles Marineris Hemisphere Enhanced',\n",
       "  'img': 'https://astrogeology.usgs.gov/cache/images/b3c7c6c9138f57b4756be9b9c43e3a48_valles_marineris_enhanced.tif_full.jpg'}]"
      ]
     },
     "execution_count": 84,
     "metadata": {},
     "output_type": "execute_result"
    }
   ],
   "source": [
    "hemisphere_image_urls"
   ]
  },
  {
   "cell_type": "code",
   "execution_count": 7,
   "metadata": {},
   "outputs": [],
   "source": [
    "browser.quit()"
   ]
  },
  {
   "cell_type": "code",
   "execution_count": null,
   "metadata": {},
   "outputs": [],
   "source": []
  }
 ],
 "metadata": {
  "kernelspec": {
   "display_name": "Python [conda env:PythonData] *",
   "language": "python",
   "name": "conda-env-PythonData-py"
  },
  "language_info": {
   "codemirror_mode": {
    "name": "ipython",
    "version": 3
   },
   "file_extension": ".py",
   "mimetype": "text/x-python",
   "name": "python",
   "nbconvert_exporter": "python",
   "pygments_lexer": "ipython3",
   "version": "3.8.5"
  }
 },
 "nbformat": 4,
 "nbformat_minor": 4
}
