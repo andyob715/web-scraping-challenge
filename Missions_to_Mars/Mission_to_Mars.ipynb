{
 "cells": [
  {
   "cell_type": "code",
   "execution_count": 295,
   "metadata": {},
   "outputs": [],
   "source": [
    "from splinter import Browser\n",
    "from bs4 import BeautifulSoup\n",
    "from webdriver_manager.chrome import ChromeDriverManager\n",
    "import requests\n",
    "import pandas as pd"
   ]
  },
  {
   "cell_type": "markdown",
   "metadata": {},
   "source": [
    "## NASA Mars News\n",
    "\n",
    "<li>Scrape the Mars News Site and collect the latest News Title and Paragraph Text. Assign the text to variables that you can reference later.\n",
    "\n"
   ]
  },
  {
   "cell_type": "code",
   "execution_count": 296,
   "metadata": {},
   "outputs": [
    {
     "name": "stderr",
     "output_type": "stream",
     "text": [
      "\n",
      "\n",
      "====== WebDriver manager ======\n",
      "Current google-chrome version is 93.0.4577\n",
      "Get LATEST driver version for 93.0.4577\n",
      "Driver [C:\\Users\\andre\\.wdm\\drivers\\chromedriver\\win32\\93.0.4577.63\\chromedriver.exe] found in cache\n"
     ]
    }
   ],
   "source": [
    "# Setup splinter\n",
    "executable_path = {'executable_path': ChromeDriverManager().install()}\n",
    "browser = Browser('chrome', **executable_path, headless=False)"
   ]
  },
  {
   "cell_type": "code",
   "execution_count": 297,
   "metadata": {},
   "outputs": [],
   "source": [
    "url = 'https://mars.nasa.gov/news/'\n",
    "browser.visit(url)"
   ]
  },
  {
   "cell_type": "code",
   "execution_count": 298,
   "metadata": {},
   "outputs": [
    {
     "name": "stdout",
     "output_type": "stream",
     "text": [
      "Title: Mars Now\n",
      "Teaser: The rotorcraft captures nuances of rocky outcrop during aerial reconnaissance.   \n",
      "\n",
      "\n",
      "Title: NASA's Ingenuity Helicopter Captures a Mars Rock Feature in 3D \n",
      "Teaser: Two interactive web experiences let you explore the Martian surface, as seen by cameras aboard the rover and orbiters flying overhead.\n",
      "\n",
      "Title: Take a 3D Spin on Mars and Track NASA's Perseverance Rover\n",
      "Teaser: The Johnson Space Center scientist was tasked with helping guide the way for mission’s first cored Mars rock sample.\n",
      "\n",
      "Title: Justin Simon Shepherds Perseverance Through First Phase of Martian Rock Sampling  \n",
      "Teaser: Scientists found evidence that a region of northern Mars called Arabia Terra experienced thousands of \"super eruptions,\" the biggest volcanic eruptions known, over a 500-million-year period.\n",
      "\n",
      "Title: NASA Confirms Thousands of Massive, Ancient Volcanic Eruptions on Mars \n",
      "Teaser: The rocks it has analyzed for sample collection are helping the team better understand a past marked by volcanic activity and water.\n",
      "\n",
      "Title: NASA's Perseverance Rover Collects Puzzle Pieces of Mars' History\n",
      "Teaser: Dr. Shannon Curry, planetary scientist and the deputy assistant director of planetary science at the Space Sciences Laboratory (SSL) at the University of California, Berkeley, has assumed leadership of NASA’s first mission devoted to studying the Martian atmosphere.\n",
      "\n",
      "Title: NASA Mars Mission Begins a New Chapter of Science With a New Leader\n",
      "Teaser: The three award recipients – Diana Trujillo, Christina Hernandez, and Clara O’Farrell – are engineers from the NASA rover team. \n",
      "\n",
      "Title: Mars Perseverance Team Members to Be Recognized at Hispanic Heritage Awards\n",
      "Teaser: Panelists will discuss the Perseverance rover’s successful collection of the sample and latest science analysis.\n",
      "\n",
      "Title: NASA to Host Briefing on Successful Sample Collection of Martian Rock\n",
      "Teaser: The rock core is now enclosed in an airtight titanium sample tube, and will be available for retrieval in the future.\n",
      "\n",
      "Title: NASA's Perseverance Rover Collects First Mars Rock Sample\n",
      "Teaser: Perseverance will obtain additional imagery of the sample tube before potentially completing the process of collecting its first scientifically-selected Mars sample.\n",
      "\n",
      "\n",
      "Title: NASA's Perseverance Rover Successfully Cores Its First Rock\n",
      "Teaser: The rover will abrade a rock this week, allowing scientists and engineers to decide whether that target would withstand its powerful drill.\n",
      "\n",
      "Title: NASA's Perseverance Plans Next Sample Attempt\n",
      "Teaser: Perseverance scientist impressed with aerial images of location considered for rover exploration.  \n",
      "\n",
      "Title: My Favorite Martian Image: Helicopter Sees Potential Rover Road Ahead\n",
      "Teaser: A new video rings in the rover’s ninth year on Mars, letting viewers tour Curiosity’s location on a Martian mountain.\n",
      "\n",
      "Title: NASA's Curiosity Mars Rover Explores a Changing Landscape\n",
      "Teaser: By combining observations from three international spacecraft at Mars, scientists were able to show that regional dust storms play a huge role in drying out the Red Planet.\n",
      "\n",
      "Title: Global Trio of Orbiters Shows Small Dust Storms Help Dry Out Mars\n",
      "Teaser: Can you see NASA’s newest rover in this picture from Jezero Crater?\n",
      "\n"
     ]
    }
   ],
   "source": [
    "# Set the max number of iterations for my for loop\n",
    "n_max = 15\n",
    "\n",
    "# standard copy/pasta for my html / soup\n",
    "html = browser.html\n",
    "soup = BeautifulSoup(html, 'html.parser')\n",
    "\n",
    "#use the find all for the title and teaser\n",
    "news = soup.find_all('div', 'content_title')\n",
    "teasers = soup.find_all('div', 'article_teaser_body')\n",
    "\n",
    "#complete for loop (tutor helped me with this simplified for loop approac)\n",
    "for teaser, new in zip(teasers[:n_max], news[:n_max]):\n",
    "    print(\"Title: {}\".format(new.text))\n",
    "    print(\"Teaser: {}\\n\".format(teaser.text))\n",
    "    "
   ]
  },
  {
   "cell_type": "markdown",
   "metadata": {},
   "source": [
    "## JPL Mars Space Images - Featured Image\n",
    "\n",
    "<li>Visit the url for the Featured Space Image site here.\n",
    "<li>Use splinter to navigate the site and find the image url for the current Featured Mars Image and assign the url string to a variable called featured_image_url.\n",
    "<li>e sure to find the image url to the full size .jpg image.\n",
    "<li>Make sure to save a complete url string for this image."
   ]
  },
  {
   "cell_type": "code",
   "execution_count": 31,
   "metadata": {},
   "outputs": [
    {
     "name": "stderr",
     "output_type": "stream",
     "text": [
      "\n",
      "\n",
      "====== WebDriver manager ======\n",
      "Current google-chrome version is 93.0.4577\n",
      "Get LATEST driver version for 93.0.4577\n",
      "Driver [C:\\Users\\andre\\.wdm\\drivers\\chromedriver\\win32\\93.0.4577.63\\chromedriver.exe] found in cache\n"
     ]
    },
    {
     "name": "stdout",
     "output_type": "stream",
     "text": [
      "<img alt=\"\" class=\"fancybox-image\" src=\"image/featured/mars1.jpg\"/>\n"
     ]
    }
   ],
   "source": [
    "# Setup splinter\n",
    "executable_path = {'executable_path': ChromeDriverManager().install()}\n",
    "browser = Browser('chrome', **executable_path, headless=True)\n",
    "\n",
    "url = 'https://spaceimages-mars.com/'\n",
    "browser.visit(url)\n",
    "\n",
    "# Click Button with tag button\n",
    "full_image_button = browser.find_by_tag(\"button\")[1]\n",
    "full_image_button.click()\n",
    "\n",
    "# standard copy/pasta for my html / soup\n",
    "html = browser.html\n",
    "img_bs = BeautifulSoup(html, 'html.parser')\n",
    "\n",
    "#use the find all for the title and teaser\n",
    "featured_jpg = img_bs.find('img', class_='fancybox-image')\n",
    "\n",
    "print(featured_jpg)"
   ]
  },
  {
   "cell_type": "code",
   "execution_count": 302,
   "metadata": {},
   "outputs": [
    {
     "name": "stderr",
     "output_type": "stream",
     "text": [
      "\n",
      "\n",
      "====== WebDriver manager ======\n",
      "Current google-chrome version is 93.0.4577\n",
      "Get LATEST driver version for 93.0.4577\n",
      "Driver [C:\\Users\\andre\\.wdm\\drivers\\chromedriver\\win32\\93.0.4577.63\\chromedriver.exe] found in cache\n"
     ]
    },
    {
     "name": "stdout",
     "output_type": "stream",
     "text": [
      "https://spaceimages-mars.com/image/featured/mars3.jpg\n"
     ]
    }
   ],
   "source": [
    "# Setup splinter\n",
    "executable_path = {'executable_path': ChromeDriverManager().install()}\n",
    "browser = Browser('chrome', **executable_path, headless=True)\n",
    "\n",
    "img_url = 'https://spaceimages-mars.com/'\n",
    "browser.visit(img_url)\n",
    "\n",
    "# standard copy/pasta for my html / soup\n",
    "html = browser.html\n",
    "img_bs = BeautifulSoup(html, 'html.parser')\n",
    "\n",
    "featured_img = img_bs.find(\"img\",class_=\"headerimage fade-in\").get('src')\n",
    "final_img_url = f'{img_url}{featured_img}'\n",
    "print(final_img_url)"
   ]
  },
  {
   "cell_type": "markdown",
   "metadata": {},
   "source": [
    "## Mars Facts\n",
    "\n",
    "\n",
    "<li> Visit the Mars Facts webpage here and use Pandas to scrape the table containing facts about the planet including Diameter, Mass, etc.\n",
    "<li>Use Pandas to convert the data to a HTML table string."
   ]
  },
  {
   "cell_type": "code",
   "execution_count": 355,
   "metadata": {},
   "outputs": [
    {
     "data": {
      "text/plain": [
       "['6,792 km\\n',\n",
       " '6,752 km\\n',\n",
       " '6.39 × 10^23 kg\\n(0.11 Earths)',\n",
       " '2 (Phobos & Deimos)',\n",
       " '227,943,824 km\\n(1.38 AU)',\n",
       " '687 days (1.9 years)\\n',\n",
       " '-87 to -5 °C',\n",
       " '2nd millennium BC',\n",
       " 'Egyptian astronomers']"
      ]
     },
     "execution_count": 355,
     "metadata": {},
     "output_type": "execute_result"
    }
   ],
   "source": [
    "mars_facts_url='https://space-facts.com/mars/'\n",
    "browser.visit(mars_facts_url)\n",
    "\n",
    "facts_keys = []\n",
    "facts_values = []\n",
    "facts_final = {}\n",
    "\n",
    "# standard copy/pasta for my html / soup\n",
    "html = browser.html\n",
    "facts_bs = BeautifulSoup(html, 'html.parser')\n",
    "\n",
    "mars_facts_table = facts_bs.find(\"table\",class_=\"tablepress-id-p-mars\")\n",
    "mars_facts_table_1 = mars_facts_table.find_all(\"td\", class_=\"column-1\")\n",
    "for i in range(len(mars_facts_table_1)):\n",
    "    facts_keys.append(mars_facts_table_1[i].text)\n",
    "mars_facts_table_2= mars_facts_table.find_all(\"td\", class_=\"column-2\")\n",
    "for i in range(len(mars_facts_table_2)):\n",
    "    facts_values.append(mars_facts_table_2[i].text)\n",
    "\n",
    "for i in range(len(facts_keys)):\n",
    "    facts_final[facts_keys[i]] = facts_values[i]\n",
    "    \n",
    "facts_final\n",
    "facts_keys\n",
    "facts_values"
   ]
  },
  {
   "cell_type": "markdown",
   "metadata": {},
   "source": [
    "## Mars Hemispheres\n",
    "\n",
    "<li>Visit the astrogeology site here to obtain high resolution images for each of Mar's hemispheres.\n",
    "<li>You will need to click each of the links to the hemispheres in order to find the image url to the full resolution image.\n",
    "<li>Save both the image url string for the full resolution hemisphere image, and the Hemisphere title containing the hemisphere name. Use a Python dictionary to store the data using the keys img_url and title.\n",
    "<li>Append the dictionary with the image url string and the hemisphere title to a list. This list will contain one dictionary for each hemisphere."
   ]
  },
  {
   "cell_type": "code",
   "execution_count": 264,
   "metadata": {},
   "outputs": [
    {
     "name": "stderr",
     "output_type": "stream",
     "text": [
      "\n",
      "\n",
      "====== WebDriver manager ======\n",
      "Current google-chrome version is 93.0.4577\n",
      "Get LATEST driver version for 93.0.4577\n",
      "Driver [C:\\Users\\andre\\.wdm\\drivers\\chromedriver\\win32\\93.0.4577.63\\chromedriver.exe] found in cache\n"
     ]
    },
    {
     "name": "stdout",
     "output_type": "stream",
     "text": [
      "5\n",
      "[<h3>Cerberus Hemisphere Enhanced</h3>, <h3>Schiaparelli Hemisphere Enhanced</h3>, <h3>Syrtis Major Hemisphere Enhanced</h3>, <h3>Valles Marineris Hemisphere Enhanced</h3>, <h3>Back</h3>]\n"
     ]
    }
   ],
   "source": [
    "# Setup splinter\n",
    "executable_path = {'executable_path': ChromeDriverManager().install()}\n",
    "browser = Browser('chrome', **executable_path, headless=True)\n",
    "\n",
    "url = 'https://marshemispheres.com/'\n",
    "browser.visit(url)\n",
    "\n",
    "# standard copy/pasta for my html / soup\n",
    "html = browser.html\n",
    "hemis_bs = BeautifulSoup(html, 'html.parser')\n",
    "\n",
    "#use the find all for the title and teaser\n",
    "articles = hemis_bs.find_all('h3')\n",
    "\n",
    "print(len(articles))\n",
    "print(articles)"
   ]
  },
  {
   "cell_type": "code",
   "execution_count": null,
   "metadata": {},
   "outputs": [],
   "source": []
  },
  {
   "cell_type": "code",
   "execution_count": 278,
   "metadata": {},
   "outputs": [
    {
     "name": "stdout",
     "output_type": "stream",
     "text": [
      "['Cerberus Hemisphere Enhanced', 'Schiaparelli Hemisphere Enhanced', 'Syrtis Major Hemisphere Enhanced', 'Valles Marineris Hemisphere Enhanced']\n"
     ]
    }
   ],
   "source": [
    "# A blank list to hold the headlines\n",
    "article_list=[]\n",
    "article_dict = []\n",
    "for article in articles:\n",
    "    article_list.append(article.text)\n",
    "    \n",
    "#Drop the last one because it says 'Back'\n",
    "article_list.pop()\n",
    "\n",
    "#Printy print to check\n",
    "print(article_list)"
   ]
  },
  {
   "cell_type": "code",
   "execution_count": 279,
   "metadata": {},
   "outputs": [
    {
     "data": {
      "text/plain": [
       "['https://astrogeology.usgs.gov/search/map/Mars/Viking/Cerberus_Enhanced',\n",
       " 'https://astrogeology.usgs.gov/search/map/Mars/Viking/Schiaparelli_Enhanced',\n",
       " 'https://astrogeology.usgs.gov/search/map/Mars/Viking/Syrtis_Major_Enhanced',\n",
       " 'https://astrogeology.usgs.gov/search/map/Mars/Viking/Valles_Marineris_Enhanced']"
      ]
     },
     "execution_count": 279,
     "metadata": {},
     "output_type": "execute_result"
    }
   ],
   "source": [
    "## QUICK NOTE. I am aware that this is not the most efficient way to do this,\n",
    "## or what the homework was requesting. I was unable to get it to work the correct way.\n",
    "## I am trying to get this submitted by the deadline\n",
    "\n",
    "#Quick formatting work to get the url ending for each of the hemispheres correct\n",
    "xx = pd.DataFrame(article_list)\n",
    "yy = xx.rename(columns = {0:\"url\"})\n",
    "\n",
    "#replacing the word hemisphere and replacing the spaces with underscores\n",
    "zz = yy.replace(to_replace=\" Hemisphere \", value=\"_\", regex=True)\n",
    "aa = zz.replace(to_replace=\" \", value=\"_\", regex=True)\n",
    "\n",
    "# iterating through the dataframe to build a new URL\n",
    "new_url = []\n",
    "for index,row in aa.iterrows():\n",
    "    url_row = row[\"url\"]\n",
    "    final_url = f'https://astrogeology.usgs.gov/search/map/Mars/Viking/{url_row}'\n",
    "    new_url.append(final_url)\n",
    "new_url"
   ]
  },
  {
   "cell_type": "code",
   "execution_count": 280,
   "metadata": {},
   "outputs": [
    {
     "name": "stderr",
     "output_type": "stream",
     "text": [
      "\n",
      "\n",
      "====== WebDriver manager ======\n",
      "Current google-chrome version is 93.0.4577\n",
      "Get LATEST driver version for 93.0.4577\n",
      "Driver [C:\\Users\\andre\\.wdm\\drivers\\chromedriver\\win32\\93.0.4577.63\\chromedriver.exe] found in cache\n"
     ]
    },
    {
     "name": "stdout",
     "output_type": "stream",
     "text": [
      "['https://astrogeology.usgs.gov/cache/images/f5e372a36edfa389625da6d0cc25d905_cerberus_enhanced.tif_full.jpg', 'https://astrogeology.usgs.gov/cache/images/3778f7b43bbbc89d6e3cfabb3613ba93_schiaparelli_enhanced.tif_full.jpg', 'https://astrogeology.usgs.gov/cache/images/555e6403a6ddd7ba16ddb0e471cadcf7_syrtis_major_enhanced.tif_full.jpg', 'https://astrogeology.usgs.gov/cache/images/b3c7c6c9138f57b4756be9b9c43e3a48_valles_marineris_enhanced.tif_full.jpg']\n"
     ]
    }
   ],
   "source": [
    "#created a list to hold the url images\n",
    "# Setup splinter\n",
    "executable_path = {'executable_path': ChromeDriverManager().install()}\n",
    "browser = Browser('chrome', **executable_path, headless=True)\n",
    "\n",
    "img_source_list = []\n",
    "\n",
    "for i in range(len(new_url)):\n",
    "    url = f'{new_url[i]}'\n",
    "    browser.visit(url)\n",
    "\n",
    "    # standard copy/pasta for my html / soup\n",
    "    html = browser.html\n",
    "    soup = BeautifulSoup(html, 'html.parser')\n",
    "\n",
    "    #use the find all for the title and teaser\n",
    "    full_img = soup.find('img', class_=\"wide-image\").get('src')\n",
    "    full_img_url = f'https://astrogeology.usgs.gov{full_img}'\n",
    "    img_source_list.append(full_img_url)\n",
    "    \n",
    "print(img_source_list)"
   ]
  },
  {
   "cell_type": "code",
   "execution_count": 294,
   "metadata": {},
   "outputs": [
    {
     "data": {
      "text/html": [
       "<div>\n",
       "<style scoped>\n",
       "    .dataframe tbody tr th:only-of-type {\n",
       "        vertical-align: middle;\n",
       "    }\n",
       "\n",
       "    .dataframe tbody tr th {\n",
       "        vertical-align: top;\n",
       "    }\n",
       "\n",
       "    .dataframe thead th {\n",
       "        text-align: right;\n",
       "    }\n",
       "</style>\n",
       "<table border=\"1\" class=\"dataframe\">\n",
       "  <thead>\n",
       "    <tr style=\"text-align: right;\">\n",
       "      <th></th>\n",
       "      <th>Title</th>\n",
       "      <th>Source</th>\n",
       "    </tr>\n",
       "  </thead>\n",
       "  <tbody>\n",
       "    <tr>\n",
       "      <th>0</th>\n",
       "      <td>Cerberus Hemisphere Enhanced</td>\n",
       "      <td>https://astrogeology.usgs.gov/cache/images/f5e...</td>\n",
       "    </tr>\n",
       "    <tr>\n",
       "      <th>1</th>\n",
       "      <td>Schiaparelli Hemisphere Enhanced</td>\n",
       "      <td>https://astrogeology.usgs.gov/cache/images/377...</td>\n",
       "    </tr>\n",
       "    <tr>\n",
       "      <th>2</th>\n",
       "      <td>Syrtis Major Hemisphere Enhanced</td>\n",
       "      <td>https://astrogeology.usgs.gov/cache/images/555...</td>\n",
       "    </tr>\n",
       "    <tr>\n",
       "      <th>3</th>\n",
       "      <td>Valles Marineris Hemisphere Enhanced</td>\n",
       "      <td>https://astrogeology.usgs.gov/cache/images/b3c...</td>\n",
       "    </tr>\n",
       "  </tbody>\n",
       "</table>\n",
       "</div>"
      ],
      "text/plain": [
       "                                  Title  \\\n",
       "0          Cerberus Hemisphere Enhanced   \n",
       "1      Schiaparelli Hemisphere Enhanced   \n",
       "2      Syrtis Major Hemisphere Enhanced   \n",
       "3  Valles Marineris Hemisphere Enhanced   \n",
       "\n",
       "                                              Source  \n",
       "0  https://astrogeology.usgs.gov/cache/images/f5e...  \n",
       "1  https://astrogeology.usgs.gov/cache/images/377...  \n",
       "2  https://astrogeology.usgs.gov/cache/images/555...  \n",
       "3  https://astrogeology.usgs.gov/cache/images/b3c...  "
      ]
     },
     "metadata": {},
     "output_type": "display_data"
    },
    {
     "data": {
      "text/plain": [
       "{'Cerberus Hemisphere Enhanced': 'https://astrogeology.usgs.gov/cache/images/f5e372a36edfa389625da6d0cc25d905_cerberus_enhanced.tif_full.jpg',\n",
       " 'Schiaparelli Hemisphere Enhanced': 'https://astrogeology.usgs.gov/cache/images/3778f7b43bbbc89d6e3cfabb3613ba93_schiaparelli_enhanced.tif_full.jpg',\n",
       " 'Syrtis Major Hemisphere Enhanced': 'https://astrogeology.usgs.gov/cache/images/555e6403a6ddd7ba16ddb0e471cadcf7_syrtis_major_enhanced.tif_full.jpg',\n",
       " 'Valles Marineris Hemisphere Enhanced': 'https://astrogeology.usgs.gov/cache/images/b3c7c6c9138f57b4756be9b9c43e3a48_valles_marineris_enhanced.tif_full.jpg'}"
      ]
     },
     "execution_count": 294,
     "metadata": {},
     "output_type": "execute_result"
    }
   ],
   "source": [
    "#I have no idea how to get the dictionary to look like the example, I've been trying for hours I give up\n",
    "\n",
    "article_df = pd.DataFrame(article_list)\n",
    "article_ren = article_df.rename(columns = {0:\"Title\"})\n",
    "\n",
    "list_df = pd.DataFrame(img_source_list)\n",
    "list_ren = list_df.rename(columns = {0:\"Source\"})\n",
    "\n",
    "result = pd.concat([article_ren, list_ren], axis=1, join='inner')\n",
    "display(result)\n",
    "\n",
    "result_dict = dict(zip(result.Title, result.Source))\n",
    "result_dict"
   ]
  },
  {
   "cell_type": "code",
   "execution_count": null,
   "metadata": {},
   "outputs": [],
   "source": []
  },
  {
   "cell_type": "code",
   "execution_count": 209,
   "metadata": {},
   "outputs": [],
   "source": [
    "#https://astrogeology.usgs.gov/search/map/Mars/Viking/cerberus_enhanced\n",
    "#<img class=\"wide-image\" src=\"/cache/images/f5e372a36edfa389625da6d0cc25d905_cerberus_enhanced.tif_full.jpg\">\n",
    "#src full = https://astrogeology.usgs.gov/cache/images/f5e372a36edfa389625da6d0cc25d905_cerberus_enhanced.tif_full.jpg"
   ]
  },
  {
   "cell_type": "code",
   "execution_count": 84,
   "metadata": {},
   "outputs": [
    {
     "data": {
      "text/plain": [
       "[{'title': 'Cerberus Hemisphere Enhanced',\n",
       "  'img': 'https://astrogeology.usgs.gov/cache/images/f5e372a36edfa389625da6d0cc25d905_cerberus_enhanced.tif_full.jpg'},\n",
       " {'title': 'Schiaparelli Hemisphere Enhanced',\n",
       "  'img': 'https://astrogeology.usgs.gov/cache/images/3778f7b43bbbc89d6e3cfabb3613ba93_schiaparelli_enhanced.tif_full.jpg'},\n",
       " {'title': 'Syrtis Major Hemisphere Enhanced',\n",
       "  'img': 'https://astrogeology.usgs.gov/cache/images/555e6403a6ddd7ba16ddb0e471cadcf7_syrtis_major_enhanced.tif_full.jpg'},\n",
       " {'title': 'Valles Marineris Hemisphere Enhanced',\n",
       "  'img': 'https://astrogeology.usgs.gov/cache/images/b3c7c6c9138f57b4756be9b9c43e3a48_valles_marineris_enhanced.tif_full.jpg'}]"
      ]
     },
     "execution_count": 84,
     "metadata": {},
     "output_type": "execute_result"
    }
   ],
   "source": [
    "hemisphere_image_urls"
   ]
  }
 ],
 "metadata": {
  "kernelspec": {
   "display_name": "Python [conda env:PythonData] *",
   "language": "python",
   "name": "conda-env-PythonData-py"
  },
  "language_info": {
   "codemirror_mode": {
    "name": "ipython",
    "version": 3
   },
   "file_extension": ".py",
   "mimetype": "text/x-python",
   "name": "python",
   "nbconvert_exporter": "python",
   "pygments_lexer": "ipython3",
   "version": "3.8.5"
  }
 },
 "nbformat": 4,
 "nbformat_minor": 4
}
