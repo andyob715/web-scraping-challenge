{
 "cells": [
  {
   "cell_type": "code",
   "execution_count": 295,
   "metadata": {},
   "outputs": [],
   "source": [
    "from splinter import Browser\n",
    "from bs4 import BeautifulSoup\n",
    "from webdriver_manager.chrome import ChromeDriverManager\n",
    "import requests\n",
    "import pandas as pd"
   ]
  },
  {
   "cell_type": "markdown",
   "metadata": {},
   "source": [
    "## NASA Mars News\n",
    "\n",
    "<li>Scrape the Mars News Site and collect the latest News Title and Paragraph Text. Assign the text to variables that you can reference later.\n",
    "\n"
   ]
  },
  {
   "cell_type": "code",
   "execution_count": 296,
   "metadata": {},
   "outputs": [
    {
     "name": "stderr",
     "output_type": "stream",
     "text": [
      "\n",
      "\n",
      "====== WebDriver manager ======\n",
      "Current google-chrome version is 93.0.4577\n",
      "Get LATEST driver version for 93.0.4577\n",
      "Driver [C:\\Users\\andre\\.wdm\\drivers\\chromedriver\\win32\\93.0.4577.63\\chromedriver.exe] found in cache\n"
     ]
    }
   ],
   "source": [
    "# Setup splinter\n",
    "executable_path = {'executable_path': ChromeDriverManager().install()}\n",
    "browser = Browser('chrome', **executable_path, headless=False)"
   ]
  },
  {
   "cell_type": "code",
   "execution_count": 297,
   "metadata": {},
   "outputs": [],
   "source": [
    "url = 'https://mars.nasa.gov/news/'\n",
    "browser.visit(url)"
   ]
  },
  {
   "cell_type": "code",
   "execution_count": 298,
   "metadata": {},
   "outputs": [
    {
     "name": "stdout",
     "output_type": "stream",
     "text": [
      "Title: Mars Now\n",
      "Teaser: The rotorcraft captures nuances of rocky outcrop during aerial reconnaissance.   \n",
      "\n",
      "\n",
      "Title: NASA's Ingenuity Helicopter Captures a Mars Rock Feature in 3D \n",
      "Teaser: Two interactive web experiences let you explore the Martian surface, as seen by cameras aboard the rover and orbiters flying overhead.\n",
      "\n",
      "Title: Take a 3D Spin on Mars and Track NASA's Perseverance Rover\n",
      "Teaser: The Johnson Space Center scientist was tasked with helping guide the way for mission’s first cored Mars rock sample.\n",
      "\n",
      "Title: Justin Simon Shepherds Perseverance Through First Phase of Martian Rock Sampling  \n",
      "Teaser: Scientists found evidence that a region of northern Mars called Arabia Terra experienced thousands of \"super eruptions,\" the biggest volcanic eruptions known, over a 500-million-year period.\n",
      "\n",
      "Title: NASA Confirms Thousands of Massive, Ancient Volcanic Eruptions on Mars \n",
      "Teaser: The rocks it has analyzed for sample collection are helping the team better understand a past marked by volcanic activity and water.\n",
      "\n",
      "Title: NASA's Perseverance Rover Collects Puzzle Pieces of Mars' History\n",
      "Teaser: Dr. Shannon Curry, planetary scientist and the deputy assistant director of planetary science at the Space Sciences Laboratory (SSL) at the University of California, Berkeley, has assumed leadership of NASA’s first mission devoted to studying the Martian atmosphere.\n",
      "\n",
      "Title: NASA Mars Mission Begins a New Chapter of Science With a New Leader\n",
      "Teaser: The three award recipients – Diana Trujillo, Christina Hernandez, and Clara O’Farrell – are engineers from the NASA rover team. \n",
      "\n",
      "Title: Mars Perseverance Team Members to Be Recognized at Hispanic Heritage Awards\n",
      "Teaser: Panelists will discuss the Perseverance rover’s successful collection of the sample and latest science analysis.\n",
      "\n",
      "Title: NASA to Host Briefing on Successful Sample Collection of Martian Rock\n",
      "Teaser: The rock core is now enclosed in an airtight titanium sample tube, and will be available for retrieval in the future.\n",
      "\n",
      "Title: NASA's Perseverance Rover Collects First Mars Rock Sample\n",
      "Teaser: Perseverance will obtain additional imagery of the sample tube before potentially completing the process of collecting its first scientifically-selected Mars sample.\n",
      "\n",
      "\n",
      "Title: NASA's Perseverance Rover Successfully Cores Its First Rock\n",
      "Teaser: The rover will abrade a rock this week, allowing scientists and engineers to decide whether that target would withstand its powerful drill.\n",
      "\n",
      "Title: NASA's Perseverance Plans Next Sample Attempt\n",
      "Teaser: Perseverance scientist impressed with aerial images of location considered for rover exploration.  \n",
      "\n",
      "Title: My Favorite Martian Image: Helicopter Sees Potential Rover Road Ahead\n",
      "Teaser: A new video rings in the rover’s ninth year on Mars, letting viewers tour Curiosity’s location on a Martian mountain.\n",
      "\n",
      "Title: NASA's Curiosity Mars Rover Explores a Changing Landscape\n",
      "Teaser: By combining observations from three international spacecraft at Mars, scientists were able to show that regional dust storms play a huge role in drying out the Red Planet.\n",
      "\n",
      "Title: Global Trio of Orbiters Shows Small Dust Storms Help Dry Out Mars\n",
      "Teaser: Can you see NASA’s newest rover in this picture from Jezero Crater?\n",
      "\n"
     ]
    }
   ],
   "source": [
    "# Set the max number of iterations for my for loop\n",
    "n_max = 15\n",
    "\n",
    "# standard copy/pasta for my html / soup\n",
    "html = browser.html\n",
    "soup = BeautifulSoup(html, 'html.parser')\n",
    "\n",
    "#use the find all for the title and teaser\n",
    "news = soup.find_all('div', 'content_title')\n",
    "teasers = soup.find_all('div', 'article_teaser_body')\n",
    "\n",
    "#complete for loop (tutor helped me with this simplified for loop approac)\n",
    "for teaser, new in zip(teasers[:n_max], news[:n_max]):\n",
    "    print(\"Title: {}\".format(new.text))\n",
    "    print(\"Teaser: {}\\n\".format(teaser.text))\n",
    "    "
   ]
  },
  {
   "cell_type": "markdown",
   "metadata": {},
   "source": [
    "## JPL Mars Space Images - Featured Image\n",
    "\n",
    "<li>Visit the url for the Featured Space Image site here.\n",
    "<li>Use splinter to navigate the site and find the image url for the current Featured Mars Image and assign the url string to a variable called featured_image_url.\n",
    "<li>e sure to find the image url to the full size .jpg image.\n",
    "<li>Make sure to save a complete url string for this image."
   ]
  },
  {
   "cell_type": "code",
   "execution_count": 31,
   "metadata": {},
   "outputs": [
    {
     "name": "stderr",
     "output_type": "stream",
     "text": [
      "\n",
      "\n",
      "====== WebDriver manager ======\n",
      "Current google-chrome version is 93.0.4577\n",
      "Get LATEST driver version for 93.0.4577\n",
      "Driver [C:\\Users\\andre\\.wdm\\drivers\\chromedriver\\win32\\93.0.4577.63\\chromedriver.exe] found in cache\n"
     ]
    },
    {
     "name": "stdout",
     "output_type": "stream",
     "text": [
      "<img alt=\"\" class=\"fancybox-image\" src=\"image/featured/mars1.jpg\"/>\n"
     ]
    }
   ],
   "source": [
    "# Setup splinter\n",
    "executable_path = {'executable_path': ChromeDriverManager().install()}\n",
    "browser = Browser('chrome', **executable_path, headless=True)\n",
    "\n",
    "url = 'https://spaceimages-mars.com/'\n",
    "browser.visit(url)\n",
    "\n",
    "# Click Button with tag button\n",
    "full_image_button = browser.find_by_tag(\"button\")[1]\n",
    "full_image_button.click()\n",
    "\n",
    "# standard copy/pasta for my html / soup\n",
    "html = browser.html\n",
    "img_bs = BeautifulSoup(html, 'html.parser')\n",
    "\n",
    "#use the find all for the title and teaser\n",
    "featured_jpg = img_bs.find('img', class_='fancybox-image')\n",
    "\n",
    "print(featured_jpg)"
   ]
  },
  {
   "cell_type": "code",
   "execution_count": 302,
   "metadata": {},
   "outputs": [
    {
     "name": "stderr",
     "output_type": "stream",
     "text": [
      "\n",
      "\n",
      "====== WebDriver manager ======\n",
      "Current google-chrome version is 93.0.4577\n",
      "Get LATEST driver version for 93.0.4577\n",
      "Driver [C:\\Users\\andre\\.wdm\\drivers\\chromedriver\\win32\\93.0.4577.63\\chromedriver.exe] found in cache\n"
     ]
    },
    {
     "name": "stdout",
     "output_type": "stream",
     "text": [
      "https://spaceimages-mars.com/image/featured/mars3.jpg\n"
     ]
    }
   ],
   "source": [
    "# Setup splinter\n",
    "executable_path = {'executable_path': ChromeDriverManager().install()}\n",
    "browser = Browser('chrome', **executable_path, headless=True)\n",
    "\n",
    "img_url = 'https://spaceimages-mars.com/'\n",
    "browser.visit(img_url)\n",
    "\n",
    "# standard copy/pasta for my html / soup\n",
    "html = browser.html\n",
    "img_bs = BeautifulSoup(html, 'html.parser')\n",
    "\n",
    "featured_img = img_bs.find(\"img\",class_=\"headerimage fade-in\").get('src')\n",
    "final_img_url = f'{img_url}{featured_img}'\n",
    "print(final_img_url)"
   ]
  },
  {
   "cell_type": "markdown",
   "metadata": {},
   "source": [
    "## Mars Facts\n",
    "\n",
    "\n",
    "<li> Visit the Mars Facts webpage here and use Pandas to scrape the table containing facts about the planet including Diameter, Mass, etc.\n",
    "<li>Use Pandas to convert the data to a HTML table string."
   ]
  },
  {
   "cell_type": "code",
   "execution_count": 357,
   "metadata": {},
   "outputs": [
    {
     "name": "stdout",
     "output_type": "stream",
     "text": [
      "{'Equatorial Diameter:': '6,792 km\\n', 'Polar Diameter:': '6,752 km\\n', 'Mass:': '6.39 × 10^23 kg\\n(0.11 Earths)', 'Moons:': '2 (Phobos & Deimos)', 'Orbit Distance:': '227,943,824 km\\n(1.38 AU)', 'Orbit Period:': '687 days (1.9 years)\\n', 'Surface Temperature: ': '-87 to -5 °C', 'First Record:': '2nd millennium BC', 'Recorded By:': 'Egyptian astronomers'}\n"
     ]
    }
   ],
   "source": [
    "mars_facts_url='https://space-facts.com/mars/'\n",
    "browser.visit(mars_facts_url)\n",
    "\n",
    "facts_keys = []\n",
    "facts_values = []\n",
    "facts_final = {}\n",
    "\n",
    "# standard copy/pasta for my html / soup\n",
    "html = browser.html\n",
    "facts_bs = BeautifulSoup(html, 'html.parser')\n",
    "\n",
    "#pull the correct table data\n",
    "mars_facts_table = facts_bs.find(\"table\",class_=\"tablepress-id-p-mars\")\n",
    "\n",
    "#isolate column 1, iterate through it and drop it in a list\n",
    "mars_facts_table_1 = mars_facts_table.find_all(\"td\", class_=\"column-1\")\n",
    "for i in range(len(mars_facts_table_1)):\n",
    "    facts_keys.append(mars_facts_table_1[i].text)\n",
    "\n",
    "#isolate column 2, iterate through it and drop it in a list\n",
    "mars_facts_table_2= mars_facts_table.find_all(\"td\", class_=\"column-2\")\n",
    "for i in range(len(mars_facts_table_2)):\n",
    "    facts_values.append(mars_facts_table_2[i].text)\n",
    "\n",
    "#create a dictionary of the final values\n",
    "for i in range(len(facts_keys)):\n",
    "    facts_final[facts_keys[i]] = facts_values[i]\n",
    "\n",
    "print(facts_final)"
   ]
  },
  {
   "cell_type": "markdown",
   "metadata": {},
   "source": [
    "## Mars Hemispheres\n",
    "\n",
    "<li>Visit the astrogeology site here to obtain high resolution images for each of Mar's hemispheres.\n",
    "<li>You will need to click each of the links to the hemispheres in order to find the image url to the full resolution image.\n",
    "<li>Save both the image url string for the full resolution hemisphere image, and the Hemisphere title containing the hemisphere name. Use a Python dictionary to store the data using the keys img_url and title.\n",
    "<li>Append the dictionary with the image url string and the hemisphere title to a list. This list will contain one dictionary for each hemisphere."
   ]
  },
  {
   "cell_type": "code",
   "execution_count": null,
   "metadata": {},
   "outputs": [],
   "source": []
  },
  {
   "cell_type": "code",
   "execution_count": 397,
   "metadata": {},
   "outputs": [
    {
     "name": "stderr",
     "output_type": "stream",
     "text": [
      "\n",
      "\n",
      "====== WebDriver manager ======\n",
      "Current google-chrome version is 93.0.4577\n",
      "Get LATEST driver version for 93.0.4577\n",
      "Driver [C:\\Users\\andre\\.wdm\\drivers\\chromedriver\\win32\\93.0.4577.63\\chromedriver.exe] found in cache\n"
     ]
    }
   ],
   "source": [
    "# Setup splinter\n",
    "executable_path = {'executable_path': ChromeDriverManager().install()}\n",
    "browser = Browser('chrome', **executable_path, headless=True)\n",
    "\n",
    "hemis_url = 'https://marshemispheres.com/'\n",
    "browser.visit(hemis_url)\n",
    "\n",
    "# standard copy/pasta for my html / soup\n",
    "html = browser.html\n",
    "hemis_bs = BeautifulSoup(html, 'html.parser')\n",
    "\n",
    "hemi_keys = []\n",
    "hemi_values = []\n",
    "dupes = []\n",
    "\n",
    "#use the find all for the title and teaser\n",
    "hemi1 = hemis_bs.find_all('h3')\n",
    "for i in range(len(hemi1)-1):\n",
    "    hemi_keys.append(hemi1[i].text)\n",
    "    \n",
    "hemi2 = hemis_bs.find_all(\"a\", class_=\"itemLink product-item\")\n",
    "for i in range(len(hemi2)-1):\n",
    "    hemi_img = hemi2[i].get(\"href\")\n",
    "    final_url = f'{hemis_url}{hemi_img}'\n",
    "    if final_url in hemi_values:\n",
    "        dupes.append(final_url)\n",
    "    else:\n",
    "        hemi_values.append(final_url)"
   ]
  },
  {
   "cell_type": "code",
   "execution_count": 398,
   "metadata": {},
   "outputs": [
    {
     "data": {
      "text/plain": [
       "['https://marshemispheres.com/cerberus.html',\n",
       " 'https://marshemispheres.com/schiaparelli.html',\n",
       " 'https://marshemispheres.com/syrtis.html',\n",
       " 'https://marshemispheres.com/valles.html']"
      ]
     },
     "execution_count": 398,
     "metadata": {},
     "output_type": "execute_result"
    }
   ],
   "source": [
    "hemi_values"
   ]
  },
  {
   "cell_type": "code",
   "execution_count": 403,
   "metadata": {},
   "outputs": [],
   "source": [
    "img_source_list = []\n",
    "\n",
    "\n",
    "for i in range(len(hemi_values)):\n",
    "    url = f'{hemi_values[i]}'\n",
    "    browser.visit(url)\n",
    "\n",
    "    # standard copy/pasta for my html / soup\n",
    "    html = browser.html\n",
    "    soup = BeautifulSoup(html, 'html.parser')\n",
    "\n",
    "    #use the find all for the title and teaser\n",
    "    full_img = soup.find('img', class_=\"wide-image\").get('src')\n",
    "    full_img_url = f'https://astrogeology.usgs.gov/cache/{full_img}'\n",
    "    img_source_list.append(full_img_url)"
   ]
  },
  {
   "cell_type": "code",
   "execution_count": 404,
   "metadata": {},
   "outputs": [
    {
     "data": {
      "text/plain": [
       "['https://astrogeology.usgs.gov/cache/images/f5e372a36edfa389625da6d0cc25d905_cerberus_enhanced.tif_full.jpg',\n",
       " 'https://astrogeology.usgs.gov/cache/images/3778f7b43bbbc89d6e3cfabb3613ba93_schiaparelli_enhanced.tif_full.jpg',\n",
       " 'https://astrogeology.usgs.gov/cache/images/555e6403a6ddd7ba16ddb0e471cadcf7_syrtis_major_enhanced.tif_full.jpg',\n",
       " 'https://astrogeology.usgs.gov/cache/images/b3c7c6c9138f57b4756be9b9c43e3a48_valles_marineris_enhanced.tif_full.jpg']"
      ]
     },
     "execution_count": 404,
     "metadata": {},
     "output_type": "execute_result"
    }
   ],
   "source": [
    "img_source_list"
   ]
  },
  {
   "cell_type": "code",
   "execution_count": 408,
   "metadata": {},
   "outputs": [],
   "source": [
    "#create a dictionary of the final values\n",
    "hemi_dict_final = {}\n",
    "\n",
    "for i in range(len(hemi_keys)):\n",
    "    hemi_dict_final[hemi_keys[i]] = img_source_list[i]"
   ]
  },
  {
   "cell_type": "code",
   "execution_count": 409,
   "metadata": {},
   "outputs": [
    {
     "data": {
      "text/plain": [
       "{'Cerberus Hemisphere Enhanced': 'https://astrogeology.usgs.gov/cache/images/f5e372a36edfa389625da6d0cc25d905_cerberus_enhanced.tif_full.jpg',\n",
       " 'Schiaparelli Hemisphere Enhanced': 'https://astrogeology.usgs.gov/cache/images/3778f7b43bbbc89d6e3cfabb3613ba93_schiaparelli_enhanced.tif_full.jpg',\n",
       " 'Syrtis Major Hemisphere Enhanced': 'https://astrogeology.usgs.gov/cache/images/555e6403a6ddd7ba16ddb0e471cadcf7_syrtis_major_enhanced.tif_full.jpg',\n",
       " 'Valles Marineris Hemisphere Enhanced': 'https://astrogeology.usgs.gov/cache/images/b3c7c6c9138f57b4756be9b9c43e3a48_valles_marineris_enhanced.tif_full.jpg'}"
      ]
     },
     "execution_count": 409,
     "metadata": {},
     "output_type": "execute_result"
    }
   ],
   "source": [
    "hemi_dict_final"
   ]
  },
  {
   "cell_type": "code",
   "execution_count": null,
   "metadata": {},
   "outputs": [],
   "source": []
  },
  {
   "cell_type": "code",
   "execution_count": null,
   "metadata": {},
   "outputs": [],
   "source": []
  },
  {
   "cell_type": "code",
   "execution_count": 209,
   "metadata": {},
   "outputs": [],
   "source": [
    "#https://astrogeology.usgs.gov/search/map/Mars/Viking/cerberus_enhanced\n",
    "#<img class=\"wide-image\" src=\"/cache/images/f5e372a36edfa389625da6d0cc25d905_cerberus_enhanced.tif_full.jpg\">\n",
    "#src full = https://astrogeology.usgs.gov/cache/images/f5e372a36edfa389625da6d0cc25d905_cerberus_enhanced.tif_full.jpg"
   ]
  },
  {
   "cell_type": "code",
   "execution_count": null,
   "metadata": {},
   "outputs": [],
   "source": []
  },
  {
   "cell_type": "code",
   "execution_count": 410,
   "metadata": {},
   "outputs": [
    {
     "name": "stderr",
     "output_type": "stream",
     "text": [
      "\n",
      "\n",
      "====== WebDriver manager ======\n",
      "Current google-chrome version is 93.0.4577\n",
      "Get LATEST driver version for 93.0.4577\n",
      "Driver [C:\\Users\\andre\\.wdm\\drivers\\chromedriver\\win32\\93.0.4577.63\\chromedriver.exe] found in cache\n"
     ]
    }
   ],
   "source": [
    "# Setup splinter\n",
    "executable_path = {'executable_path': ChromeDriverManager().install()}\n",
    "browser = Browser('chrome', **executable_path, headless=True)\n",
    "\n",
    "hemis_url = 'https://marshemispheres.com/'\n",
    "browser.visit(hemis_url)\n",
    "\n",
    "# standard copy/pasta for my html / soup\n",
    "html = browser.html\n",
    "hemis_bs = BeautifulSoup(html, 'html.parser')\n",
    "\n",
    "hemi_keys = []\n",
    "hemi_values = []\n",
    "dupes = []\n",
    "img_source_list = []\n",
    "hemi_dict_final = {}\n",
    "\n",
    "#use the find all for the title and teaser\n",
    "hemi1 = hemis_bs.find_all('h3')\n",
    "for i in range(len(hemi1)-1):\n",
    "    hemi_keys.append(hemi1[i].text)\n",
    "    \n",
    "hemi2 = hemis_bs.find_all(\"a\", class_=\"itemLink product-item\")\n",
    "for i in range(len(hemi2)-1):\n",
    "    hemi_img = hemi2[i].get(\"href\")\n",
    "    final_url = f'{hemis_url}{hemi_img}'\n",
    "    if final_url in hemi_values:\n",
    "        dupes.append(final_url)\n",
    "    else:\n",
    "        hemi_values.append(final_url)\n",
    "\n",
    "for i in range(len(hemi_values)):\n",
    "    url = f'{hemi_values[i]}'\n",
    "    browser.visit(url)\n",
    "\n",
    "    # standard copy/pasta for my html / soup\n",
    "    html = browser.html\n",
    "    soup = BeautifulSoup(html, 'html.parser')\n",
    "\n",
    "    #use the find all for the title and teaser\n",
    "    full_img = soup.find('img', class_=\"wide-image\").get('src')\n",
    "    full_img_url = f'https://astrogeology.usgs.gov/cache/{full_img}'\n",
    "    img_source_list.append(full_img_url)\n",
    "    \n",
    "#create a dictionary of the final values\n",
    "for i in range(len(hemi_keys)):\n",
    "    hemi_dict_final[hemi_keys[i]] = img_source_list[i]"
   ]
  },
  {
   "cell_type": "code",
   "execution_count": 411,
   "metadata": {},
   "outputs": [
    {
     "data": {
      "text/plain": [
       "{'Cerberus Hemisphere Enhanced': 'https://astrogeology.usgs.gov/cache/images/f5e372a36edfa389625da6d0cc25d905_cerberus_enhanced.tif_full.jpg',\n",
       " 'Schiaparelli Hemisphere Enhanced': 'https://astrogeology.usgs.gov/cache/images/3778f7b43bbbc89d6e3cfabb3613ba93_schiaparelli_enhanced.tif_full.jpg',\n",
       " 'Syrtis Major Hemisphere Enhanced': 'https://astrogeology.usgs.gov/cache/images/555e6403a6ddd7ba16ddb0e471cadcf7_syrtis_major_enhanced.tif_full.jpg',\n",
       " 'Valles Marineris Hemisphere Enhanced': 'https://astrogeology.usgs.gov/cache/images/b3c7c6c9138f57b4756be9b9c43e3a48_valles_marineris_enhanced.tif_full.jpg'}"
      ]
     },
     "execution_count": 411,
     "metadata": {},
     "output_type": "execute_result"
    }
   ],
   "source": [
    "hemi_dict_final"
   ]
  },
  {
   "cell_type": "code",
   "execution_count": null,
   "metadata": {},
   "outputs": [],
   "source": []
  }
 ],
 "metadata": {
  "kernelspec": {
   "display_name": "Python [conda env:PythonData] *",
   "language": "python",
   "name": "conda-env-PythonData-py"
  },
  "language_info": {
   "codemirror_mode": {
    "name": "ipython",
    "version": 3
   },
   "file_extension": ".py",
   "mimetype": "text/x-python",
   "name": "python",
   "nbconvert_exporter": "python",
   "pygments_lexer": "ipython3",
   "version": "3.8.5"
  }
 },
 "nbformat": 4,
 "nbformat_minor": 4
}
